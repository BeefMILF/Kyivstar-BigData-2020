{
 "cells": [
  {
   "cell_type": "code",
   "execution_count": 1,
   "metadata": {},
   "outputs": [],
   "source": [
    "import pandas as pd\n",
    "import numpy as np\n",
    "from sklearn.ensemble import RandomForestClassifier\n",
    "from sklearn.model_selection import train_test_split, cross_val_score, GroupKFold, cross_val_predict\n",
    "from sklearn.preprocessing import LabelEncoder\n",
    "from sklearn.metrics import roc_auc_score"
   ]
  },
  {
   "cell_type": "code",
   "execution_count": 2,
   "metadata": {},
   "outputs": [],
   "source": [
    "hashed_feature_df = pd.read_csv('hashed_feature.csv')\n",
    "tabular_data_df = pd.read_csv('tabular_data.csv')\n",
    "train_df = pd.read_csv('train.csv')\n",
    "test_df = pd.read_csv('test.csv')"
   ]
  },
  {
   "cell_type": "code",
   "execution_count": 3,
   "metadata": {},
   "outputs": [],
   "source": [
    "encoder = LabelEncoder()\n",
    "tabular_data_df['feature_25'] = encoder.fit_transform(tabular_data_df['feature_25'])\n",
    "\n",
    "categorical_cols = ['feature_0', 'feature_25', 'feature_43']\n",
    "numerical_cols = [col for col in tabular_data_df.columns if col not in categorical_cols + ['id','period']]\n",
    "\n",
    "# fill n/a with new categories:\n",
    "tabular_data_df['feature_0'] = tabular_data_df['feature_0'].fillna(115.0)\n",
    "tabular_data_df['feature_43'] = tabular_data_df['feature_43'].fillna(32.0)\n",
    "\n",
    "tabular_data_df[numerical_cols] = tabular_data_df[numerical_cols].fillna(tabular_data_df.median())"
   ]
  },
  {
   "cell_type": "code",
   "execution_count": 4,
   "metadata": {},
   "outputs": [],
   "source": [
    "# one hot encode hashed features\n",
    "hashed_feature_ohe = hashed_feature_df.pivot_table(index='id', \n",
    "                                                columns='feature_50', \n",
    "                                                aggfunc=len, \n",
    "                                                fill_value=0)\n",
    "\n",
    "# new feature - number of hashed features\n",
    "hashed_feature_ohe['hashed_sum'] = hashed_feature_ohe.sum(axis=1)"
   ]
  },
  {
   "cell_type": "code",
   "execution_count": 5,
   "metadata": {},
   "outputs": [
    {
     "data": {
      "text/plain": [
       "((12252, 5061), (12252,), (3066, 5061))"
      ]
     },
     "execution_count": 5,
     "metadata": {},
     "output_type": "execute_result"
    }
   ],
   "source": [
    "# leave only last 3 periods\n",
    "tabular_data_df = tabular_data_df[tabular_data_df['period'] <= 3]\n",
    "\n",
    "all_features = tabular_data_df.join(hashed_feature_ohe, on='id', how='left')\n",
    "all_features = all_features.fillna(0)\n",
    "\n",
    "train = all_features.join(train_df.set_index('id', drop=True), on='id', how='right')\n",
    "test = all_features.join(test_df.set_index('id', drop=True), on='id', how='right').drop(columns='score')\n",
    "\n",
    "train_X = train.drop(columns=['id', 'target'])\n",
    "train_y = train['target']\n",
    "\n",
    "test_X = test.drop(columns=['id'])\n",
    "\n",
    "train_X.shape, train_y.shape, test_X.shape"
   ]
  },
  {
   "cell_type": "code",
   "execution_count": 8,
   "metadata": {},
   "outputs": [],
   "source": [
    "model = RandomForestClassifier(class_weight='balanced', n_jobs=-1, verbose=1)"
   ]
  },
  {
   "cell_type": "code",
   "execution_count": 9,
   "metadata": {},
   "outputs": [],
   "source": [
    "# calculate one sample prediction as mean of N predictions (over N periods)\n",
    "def cross_validation_score(model, X, y, scorer, groups, cv):\n",
    "    scores = []\n",
    "    for train_idx, test_idx in cv.split(X, y, groups):\n",
    "        model.fit(X.iloc[train_idx], y.iloc[train_idx])\n",
    "        pred = model.predict_proba(X.iloc[test_idx])[:, 1]\n",
    "        \n",
    "        pred_mean = groups.iloc[test_idx].to_frame(name='id')\n",
    "        pred_mean['score'] = pred\n",
    "        pred_mean = pred_mean.groupby('id')['score'].mean()\n",
    "\n",
    "        true_mean = groups.iloc[test_idx].to_frame(name='id')\n",
    "        true_mean['score'] = y.iloc[test_idx]\n",
    "        true_mean = true_mean.groupby('id')['score'].mean()\n",
    "\n",
    "        score = scorer(true_mean, pred_mean)\n",
    "        scores.append(score)\n",
    "    return np.asarray(scores)\n",
    "        "
   ]
  },
  {
   "cell_type": "code",
   "execution_count": 11,
   "metadata": {},
   "outputs": [
    {
     "name": "stderr",
     "output_type": "stream",
     "text": [
      "[Parallel(n_jobs=-1)]: Using backend ThreadingBackend with 8 concurrent workers.\n",
      "[Parallel(n_jobs=-1)]: Done  34 tasks      | elapsed:    1.0s\n",
      "[Parallel(n_jobs=-1)]: Done 184 tasks      | elapsed:    4.4s\n",
      "[Parallel(n_jobs=-1)]: Done 434 tasks      | elapsed:   10.2s\n",
      "[Parallel(n_jobs=-1)]: Done 784 tasks      | elapsed:   18.2s\n",
      "[Parallel(n_jobs=-1)]: Done 1000 out of 1000 | elapsed:   22.9s finished\n",
      "[Parallel(n_jobs=8)]: Using backend ThreadingBackend with 8 concurrent workers.\n",
      "[Parallel(n_jobs=8)]: Done  34 tasks      | elapsed:    0.0s\n",
      "[Parallel(n_jobs=8)]: Done 184 tasks      | elapsed:    0.1s\n",
      "[Parallel(n_jobs=8)]: Done 434 tasks      | elapsed:    0.1s\n",
      "[Parallel(n_jobs=8)]: Done 784 tasks      | elapsed:    0.2s\n",
      "[Parallel(n_jobs=8)]: Done 1000 out of 1000 | elapsed:    0.3s finished\n",
      "[Parallel(n_jobs=-1)]: Using backend ThreadingBackend with 8 concurrent workers.\n",
      "[Parallel(n_jobs=-1)]: Done  34 tasks      | elapsed:    0.9s\n",
      "[Parallel(n_jobs=-1)]: Done 184 tasks      | elapsed:    4.2s\n",
      "[Parallel(n_jobs=-1)]: Done 434 tasks      | elapsed:   10.0s\n",
      "[Parallel(n_jobs=-1)]: Done 784 tasks      | elapsed:   17.9s\n",
      "[Parallel(n_jobs=-1)]: Done 1000 out of 1000 | elapsed:   22.9s finished\n",
      "[Parallel(n_jobs=8)]: Using backend ThreadingBackend with 8 concurrent workers.\n",
      "[Parallel(n_jobs=8)]: Done  34 tasks      | elapsed:    0.0s\n",
      "[Parallel(n_jobs=8)]: Done 184 tasks      | elapsed:    0.1s\n",
      "[Parallel(n_jobs=8)]: Done 434 tasks      | elapsed:    0.1s\n",
      "[Parallel(n_jobs=8)]: Done 784 tasks      | elapsed:    0.2s\n",
      "[Parallel(n_jobs=8)]: Done 1000 out of 1000 | elapsed:    0.3s finished\n",
      "[Parallel(n_jobs=-1)]: Using backend ThreadingBackend with 8 concurrent workers.\n",
      "[Parallel(n_jobs=-1)]: Done  34 tasks      | elapsed:    0.8s\n",
      "[Parallel(n_jobs=-1)]: Done 184 tasks      | elapsed:    4.3s\n",
      "[Parallel(n_jobs=-1)]: Done 434 tasks      | elapsed:   10.2s\n",
      "[Parallel(n_jobs=-1)]: Done 784 tasks      | elapsed:   19.2s\n",
      "[Parallel(n_jobs=-1)]: Done 1000 out of 1000 | elapsed:   24.2s finished\n",
      "[Parallel(n_jobs=8)]: Using backend ThreadingBackend with 8 concurrent workers.\n",
      "[Parallel(n_jobs=8)]: Done  34 tasks      | elapsed:    0.0s\n",
      "[Parallel(n_jobs=8)]: Done 184 tasks      | elapsed:    0.1s\n",
      "[Parallel(n_jobs=8)]: Done 434 tasks      | elapsed:    0.1s\n",
      "[Parallel(n_jobs=8)]: Done 784 tasks      | elapsed:    0.2s\n",
      "[Parallel(n_jobs=8)]: Done 1000 out of 1000 | elapsed:    0.3s finished\n",
      "[Parallel(n_jobs=-1)]: Using backend ThreadingBackend with 8 concurrent workers.\n",
      "[Parallel(n_jobs=-1)]: Done  34 tasks      | elapsed:    0.9s\n",
      "[Parallel(n_jobs=-1)]: Done 184 tasks      | elapsed:    4.5s\n",
      "[Parallel(n_jobs=-1)]: Done 434 tasks      | elapsed:   10.2s\n",
      "[Parallel(n_jobs=-1)]: Done 784 tasks      | elapsed:   18.4s\n",
      "[Parallel(n_jobs=-1)]: Done 1000 out of 1000 | elapsed:   23.3s finished\n",
      "[Parallel(n_jobs=8)]: Using backend ThreadingBackend with 8 concurrent workers.\n",
      "[Parallel(n_jobs=8)]: Done  34 tasks      | elapsed:    0.0s\n",
      "[Parallel(n_jobs=8)]: Done 184 tasks      | elapsed:    0.1s\n",
      "[Parallel(n_jobs=8)]: Done 434 tasks      | elapsed:    0.1s\n",
      "[Parallel(n_jobs=8)]: Done 784 tasks      | elapsed:    0.2s\n",
      "[Parallel(n_jobs=8)]: Done 1000 out of 1000 | elapsed:    0.3s finished\n",
      "[Parallel(n_jobs=-1)]: Using backend ThreadingBackend with 8 concurrent workers.\n",
      "[Parallel(n_jobs=-1)]: Done  34 tasks      | elapsed:    0.9s\n",
      "[Parallel(n_jobs=-1)]: Done 184 tasks      | elapsed:    4.1s\n",
      "[Parallel(n_jobs=-1)]: Done 434 tasks      | elapsed:    9.7s\n",
      "[Parallel(n_jobs=-1)]: Done 784 tasks      | elapsed:   18.0s\n",
      "[Parallel(n_jobs=-1)]: Done 1000 out of 1000 | elapsed:   23.3s finished\n",
      "[Parallel(n_jobs=8)]: Using backend ThreadingBackend with 8 concurrent workers.\n",
      "[Parallel(n_jobs=8)]: Done  34 tasks      | elapsed:    0.0s\n",
      "[Parallel(n_jobs=8)]: Done 184 tasks      | elapsed:    0.1s\n",
      "[Parallel(n_jobs=8)]: Done 434 tasks      | elapsed:    0.1s\n",
      "[Parallel(n_jobs=8)]: Done 784 tasks      | elapsed:    0.2s\n",
      "[Parallel(n_jobs=8)]: Done 1000 out of 1000 | elapsed:    0.3s finished\n"
     ]
    },
    {
     "data": {
      "text/plain": [
       "(array([0.74453428, 0.7144812 , 0.74778754, 0.77514976, 0.72781941]),\n",
       " 0.7419544399284111,\n",
       " 0.020480175136882398)"
      ]
     },
     "execution_count": 11,
     "metadata": {},
     "output_type": "execute_result"
    }
   ],
   "source": [
    "model.n_estimators = 1000\n",
    "cv = GroupKFold(n_splits=5)\n",
    "score1 = cross_validation_score(model, train_X, train_y, scorer=roc_auc_score, groups=train['id'], cv=cv)\n",
    "score1, score1.mean(), score1.std()\n",
    "# 0.7419544399284111"
   ]
  },
  {
   "cell_type": "code",
   "execution_count": 42,
   "metadata": {},
   "outputs": [
    {
     "name": "stderr",
     "output_type": "stream",
     "text": [
      "[Parallel(n_jobs=-1)]: Using backend ThreadingBackend with 8 concurrent workers.\n",
      "[Parallel(n_jobs=-1)]: Done  34 tasks      | elapsed:    1.3s\n",
      "[Parallel(n_jobs=-1)]: Done 184 tasks      | elapsed:    6.2s\n",
      "[Parallel(n_jobs=-1)]: Done 434 tasks      | elapsed:   15.0s\n",
      "[Parallel(n_jobs=-1)]: Done 784 tasks      | elapsed:   30.1s\n",
      "[Parallel(n_jobs=-1)]: Done 1234 tasks      | elapsed:   48.0s\n",
      "[Parallel(n_jobs=-1)]: Done 1784 tasks      | elapsed:  1.1min\n",
      "[Parallel(n_jobs=-1)]: Done 2434 tasks      | elapsed:  1.5min\n",
      "[Parallel(n_jobs=-1)]: Done 3184 tasks      | elapsed:  2.0min\n",
      "[Parallel(n_jobs=-1)]: Done 4034 tasks      | elapsed:  2.5min\n",
      "[Parallel(n_jobs=-1)]: Done 4984 tasks      | elapsed:  3.1min\n",
      "[Parallel(n_jobs=-1)]: Done 6034 tasks      | elapsed:  3.7min\n",
      "[Parallel(n_jobs=-1)]: Done 7184 tasks      | elapsed:  4.4min\n",
      "[Parallel(n_jobs=-1)]: Done 8434 tasks      | elapsed:  5.2min\n",
      "[Parallel(n_jobs=-1)]: Done 9784 tasks      | elapsed:  6.0min\n",
      "[Parallel(n_jobs=-1)]: Done 10000 out of 10000 | elapsed:  6.1min finished\n"
     ]
    },
    {
     "data": {
      "text/plain": [
       "RandomForestClassifier(class_weight='balanced', n_estimators=10000, n_jobs=-1,\n",
       "                       verbose=1)"
      ]
     },
     "execution_count": 42,
     "metadata": {},
     "output_type": "execute_result"
    }
   ],
   "source": [
    "model.n_estimators = 10000\n",
    "model.fit(train_X, train_y)"
   ]
  },
  {
   "cell_type": "code",
   "execution_count": 43,
   "metadata": {},
   "outputs": [
    {
     "name": "stderr",
     "output_type": "stream",
     "text": [
      "[Parallel(n_jobs=8)]: Using backend ThreadingBackend with 8 concurrent workers.\n",
      "[Parallel(n_jobs=8)]: Done  34 tasks      | elapsed:    0.0s\n",
      "[Parallel(n_jobs=8)]: Done 184 tasks      | elapsed:    0.2s\n",
      "[Parallel(n_jobs=8)]: Done 434 tasks      | elapsed:    0.4s\n",
      "[Parallel(n_jobs=8)]: Done 784 tasks      | elapsed:    0.6s\n",
      "[Parallel(n_jobs=8)]: Done 1234 tasks      | elapsed:    0.8s\n",
      "[Parallel(n_jobs=8)]: Done 1784 tasks      | elapsed:    1.0s\n",
      "[Parallel(n_jobs=8)]: Done 2434 tasks      | elapsed:    1.3s\n",
      "[Parallel(n_jobs=8)]: Done 3184 tasks      | elapsed:    1.7s\n",
      "[Parallel(n_jobs=8)]: Done 4034 tasks      | elapsed:    2.1s\n",
      "[Parallel(n_jobs=8)]: Done 4984 tasks      | elapsed:    2.5s\n",
      "[Parallel(n_jobs=8)]: Done 6034 tasks      | elapsed:    2.9s\n",
      "[Parallel(n_jobs=8)]: Done 7184 tasks      | elapsed:    3.4s\n",
      "[Parallel(n_jobs=8)]: Done 8434 tasks      | elapsed:    3.8s\n",
      "[Parallel(n_jobs=8)]: Done 9784 tasks      | elapsed:    4.4s\n",
      "[Parallel(n_jobs=8)]: Done 10000 out of 10000 | elapsed:    4.5s finished\n"
     ]
    }
   ],
   "source": [
    "probs = model.predict_proba(test_X)[:, 1]"
   ]
  },
  {
   "cell_type": "code",
   "execution_count": 63,
   "metadata": {},
   "outputs": [
    {
     "data": {
      "text/plain": [
       "id\n",
       "4084    0.076933\n",
       "4085    0.057633\n",
       "4086    0.076333\n",
       "4087    0.384833\n",
       "4088    0.457833\n",
       "          ...   \n",
       "5101    0.197133\n",
       "5102    0.452833\n",
       "5103    0.209433\n",
       "5104    0.098433\n",
       "5105    0.030833\n",
       "Name: score, Length: 1022, dtype: float64"
      ]
     },
     "execution_count": 63,
     "metadata": {},
     "output_type": "execute_result"
    }
   ],
   "source": [
    "result = test['id'].to_frame()\n",
    "result['score'] = probs\n",
    "\n",
    "result_mean = result.groupby('id')['score'].mean()\n",
    "result_mean.to_csv('result.csv')\n",
    "\n",
    "result_mean"
   ]
  },
  {
   "cell_type": "code",
   "execution_count": null,
   "metadata": {},
   "outputs": [],
   "source": []
  }
 ],
 "metadata": {
  "kernelspec": {
   "display_name": "kyivstar_bigdata_3.7.8",
   "language": "python",
   "name": "kyivstar_bigdata_3.7.8"
  },
  "language_info": {
   "codemirror_mode": {
    "name": "ipython",
    "version": 3
   },
   "file_extension": ".py",
   "mimetype": "text/x-python",
   "name": "python",
   "nbconvert_exporter": "python",
   "pygments_lexer": "ipython3",
   "version": "3.7.8"
  }
 },
 "nbformat": 4,
 "nbformat_minor": 4
}
